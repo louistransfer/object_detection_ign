{
 "cells": [
  {
   "cell_type": "code",
   "execution_count": null,
   "metadata": {},
   "outputs": [],
   "source": [
    "import io\n",
    "import os\n",
    "import sys\n",
    "\n",
    "module_path = os.path.abspath(os.path.join(\"..\"))\n",
    "if module_path not in sys.path:\n",
    "    sys.path.append(module_path)\n",
    "import ipywidgets as widgets\n",
    "import requests\n",
    "import pandas as pd\n",
    "import picologging as logging\n",
    "\n",
    "logging.basicConfig()\n",
    "logger = logging.getLogger()\n",
    "\n",
    "from tqdm import trange, tqdm\n",
    "from PIL import Image\n",
    "from owslib.wms import WebMapService\n",
    "from owslib.wfs import WebFeatureService\n",
    "from owslib.wmts import WebMapTileService, TileMatrixSet, TileMatrix\n",
    "from pyproj import CRS, Transformer\n",
    "from owslib.etree import etree\n",
    "from owslib.util import testXMLValue"
   ]
  },
  {
   "cell_type": "markdown",
   "metadata": {},
   "source": [
    "# Calcul de la position d'une tuile WMTS\n",
    "\n",
    "\n",
    "Ressources : \n",
    "\n",
    "- [Carte interactive](https://www.geoportail.gouv.fr/carte)\n",
    "- [Documentation WMTS](https://geoservices.ign.fr/documentation/services/api-et-services-ogc/images-tuilees-wmts-ogc)"
   ]
  },
  {
   "cell_type": "markdown",
   "metadata": {},
   "source": [
    "# Récupération de la table d'échelles"
   ]
  },
  {
   "cell_type": "code",
   "execution_count": null,
   "metadata": {},
   "outputs": [],
   "source": [
    "# WMTS_SERVICE_URL = \"https://wxs.ign.fr/satellite/geoportail/wmts\"\n",
    "WMTS_SERVICE_URL = \"https://wxs.ign.fr/ortho/geoportail/wmts?SERVICE=WMTS\"\n",
    "CORRESPONDANCE_TABLE_URL = \"https://developers.arcgis.com/documentation/mapping-apis-and-services/reference/zoom-levels-and-scale/\"\n",
    "DATA_PATH = os.path.join(\"..\", \"data\")\n",
    "CORRESPONDANCE_TABLE_PATH = os.path.join(DATA_PATH, \"correspondance_table.csv\")\n",
    "ADRESS_MODE = True\n",
    "\n",
    "wmts = WebMapTileService(WMTS_SERVICE_URL, version=\"1.0.0\")\n",
    "PM_MATRIX_SET: TileMatrixSet = wmts.tilematrixsets[\"PM\"]\n",
    "wmts.identification.title"
   ]
  },
  {
   "cell_type": "code",
   "execution_count": null,
   "metadata": {},
   "outputs": [],
   "source": [
    "def load_available_options(correspondance_table_path, url):\n",
    "    if os.path.exists(correspondance_table_path):\n",
    "        logger.info(\"Existing correspondance table found, loading it now.\")\n",
    "        correspondance_table = pd.read_csv(correspondance_table_path, sep=\";\")\n",
    "    else:\n",
    "        logger.warning(\n",
    "            \"No correspondance table found, building one now from the given url.\"\n",
    "        )\n",
    "        correspondance_table = pd.read_html(url)[0]\n",
    "        correspondance_table[\"Usage suggestion\"] = correspondance_table[\n",
    "            \"Usage suggestion\"\n",
    "        ].fillna(method=\"ffill\")\n",
    "        correspondance_table[\"New legend\"] = (\n",
    "            correspondance_table[\"Zoom level\"].astype(str)\n",
    "            + \" - \"\n",
    "            + correspondance_table[\"Scale\"].astype(str)\n",
    "            + \" - \"\n",
    "            + correspondance_table[\"Usage suggestion\"]\n",
    "        )\n",
    "        correspondance_table = correspondance_table.set_index(\"Zoom level\")\n",
    "        correspondance_table.to_csv(correspondance_table_path, sep=\";\")\n",
    "\n",
    "    available_zoom_levels = list(\n",
    "        set(correspondance_table.index).intersection(\n",
    "            set([int(key) for key in PM_MATRIX_SET.tilematrix.keys()])\n",
    "        )\n",
    "    )\n",
    "    correspondance_table = correspondance_table.iloc[available_zoom_levels].sort_index()\n",
    "    available_options = correspondance_table.loc[:, \"New legend\"].to_list()\n",
    "    return available_options\n",
    "\n",
    "\n",
    "def convert_coordinates(longitude: float, latitude: float):\n",
    "    gps_crs = CRS(\"EPSG:4326\")\n",
    "    mercator_crs = CRS(\"EPSG:3857\")\n",
    "    coordinates_transformer = Transformer.from_crs(\n",
    "        gps_crs, mercator_crs, always_xy=True\n",
    "    )\n",
    "    x, y = coordinates_transformer.transform(longitude, latitude)\n",
    "    return x, y\n",
    "\n",
    "\n",
    "def compute_tile_position(\n",
    "    matrix_set: TileMatrixSet, zoom_level: int, longitude: float, latitude: float\n",
    "):\n",
    "    # TileMatrixSet.tilematrix is a dictionnary containing the matrices !\n",
    "    matrix_set_dict: dict[str, TileMatrix] = matrix_set.tilematrix\n",
    "    target_matrix = matrix_set_dict[str(zoom_level)]\n",
    "    tile_width_meters = target_matrix.scaledenominator * 0.00028 * 256\n",
    "    print(f\"Tile width in meters : {tile_width_meters}\")\n",
    "    x0, y0 = map(lambda x: float(x), target_matrix.topleftcorner)\n",
    "    x, y = convert_coordinates(longitude=longitude, latitude=latitude)\n",
    "    print(f\"X = {x}, Y = {y}, identifier = {target_matrix.identifier}\")\n",
    "    tile_col, tile_row = (x - x0) / tile_width_meters, (y0 - y) / tile_width_meters\n",
    "    tile_col, tile_row = int(round(tile_col, 0)), int(round(tile_row, 0))\n",
    "    return tile_row, tile_col\n",
    "\n",
    "\n",
    "def get_concat_image(grid_length, grid_width, tile_row, tile_column, layer, zoom_level):\n",
    "    total_width = 256 * grid_width\n",
    "    total_height = 256 * grid_length\n",
    "    dst = Image.new(\"RGB\", (total_width, total_height))\n",
    "    for i, row in enumerate(trange(tile_row - 1, tile_row + 2)):\n",
    "        for j, col in enumerate(range(tile_column - 1, tile_column + 2)):\n",
    "            request = wmts.gettile(\n",
    "                layer=layer,\n",
    "                tilematrixset=\"PM\",\n",
    "                tilematrix=zoom_level,\n",
    "                row=row,\n",
    "                column=col,\n",
    "            )\n",
    "            temp_img = Image.open(io.BytesIO(request.read()))\n",
    "            dst.paste(temp_img, (j * 256, i * 256))\n",
    "    return dst\n",
    "\n",
    "\n",
    "def identify_coordinates(address):\n",
    "    \"\"\"This functions performs an API call with the scrapped address of the restaurant to the OpenStreetMap API.\n",
    "    A longitude and a latitude are then returned.\"\"\"\n",
    "\n",
    "    target_url = (\n",
    "        \"https://nominatim.openstreetmap.org/search?q=\" + address + \"&format=json\"\n",
    "    )\n",
    "\n",
    "    target_url = target_url.replace(\",\", \"%2C\")\n",
    "    target_url = target_url.replace(\" \", \"+\")\n",
    "\n",
    "    r = requests.get(target_url)\n",
    "    found_coordinates = True\n",
    "    if r.status_code == 200:\n",
    "        try:\n",
    "            coordinates = r.json()[0]\n",
    "            latitude, longitude = coordinates[\"lat\"], coordinates[\"lon\"]\n",
    "\n",
    "        except:\n",
    "            print(f\"Address not found for: {target_url}\")\n",
    "            latitude, longitude = None, None\n",
    "            found_coordinates = False\n",
    "\n",
    "    else:\n",
    "        print(f\"Error {r.status_code} ocurred on the request\")\n",
    "        latitude, longitude, found_coordinates = None, None, False\n",
    "    return latitude, longitude, found_coordinates"
   ]
  },
  {
   "cell_type": "code",
   "execution_count": null,
   "metadata": {},
   "outputs": [],
   "source": [
    "if ADRESS_MODE:\n",
    "    adress_widget = widgets.Textarea(\n",
    "        placeholder=\"Test\",\n",
    "        value=\"Hello world\",\n",
    "        description=\"Adress\",\n",
    "    )\n",
    "\n",
    "else:\n",
    "    latitude_widget = widgets.BoundedFloatText(\n",
    "        value=48.858007,\n",
    "        description=\"Latitude\",\n",
    "    )\n",
    "    longitude_widget = widgets.BoundedFloatText(\n",
    "        value=2.294535,\n",
    "        description=\"Longitude\",\n",
    "    )\n",
    "\n",
    "available_options = load_available_options(\n",
    "    CORRESPONDANCE_TABLE_PATH, CORRESPONDANCE_TABLE_URL\n",
    ")\n",
    "\n",
    "zoom_level_widget = widgets.Dropdown(\n",
    "    options=available_options, value=available_options[0], description=\"Zooming level\"\n",
    ")\n",
    "\n",
    "\n",
    "layer_widget = widgets.Dropdown(\n",
    "    options=wmts.contents.keys(),\n",
    "    # value=0,\n",
    "    description=\"Layer\",\n",
    ")"
   ]
  },
  {
   "cell_type": "code",
   "execution_count": null,
   "metadata": {},
   "outputs": [],
   "source": [
    "if ADRESS_MODE:\n",
    "    adress = input(\"Enter an adress:\")"
   ]
  },
  {
   "cell_type": "code",
   "execution_count": null,
   "metadata": {},
   "outputs": [],
   "source": [
    "if not ADRESS_MODE:\n",
    "    display(latitude_widget)\n",
    "    display(longitude_widget)\n",
    "\n",
    "display(zoom_level_widget)\n",
    "display(layer_widget)\n",
    "display(adress_widget)"
   ]
  },
  {
   "cell_type": "code",
   "execution_count": null,
   "metadata": {},
   "outputs": [],
   "source": [
    "if ADRESS_MODE:\n",
    "    LATITUDE, LONGITUDE, has_found_adress = identify_coordinates(adress)\n",
    "else:\n",
    "    LATITUDE = latitude_widget.value\n",
    "    LONGITUDE = longitude_widget.value\n",
    "\n",
    "ZOOM_LEVEL = int(zoom_level_widget.value[:2])\n",
    "LAYER = layer_widget.value\n",
    "if has_found_adress:\n",
    "    print(\"Adress found !\")"
   ]
  },
  {
   "cell_type": "markdown",
   "metadata": {},
   "source": [
    "# WMTS analysis"
   ]
  },
  {
   "cell_type": "code",
   "execution_count": null,
   "metadata": {},
   "outputs": [],
   "source": [
    "matrix_set = wmts.tilematrixsets[\"PM\"]\n",
    "tile_row, tile_column = compute_tile_position(\n",
    "    matrix_set, ZOOM_LEVEL, LONGITUDE, LATITUDE\n",
    ")\n",
    "print(f\"Tile row nb: {tile_row}, Tile column nb:{tile_column}\")"
   ]
  },
  {
   "cell_type": "code",
   "execution_count": null,
   "metadata": {},
   "outputs": [],
   "source": [
    "dst = get_concat_image(3, 3, tile_row, tile_column, LAYER, ZOOM_LEVEL)\n",
    "display(dst)"
   ]
  },
  {
   "cell_type": "markdown",
   "metadata": {},
   "source": [
    "# Legacy code"
   ]
  },
  {
   "cell_type": "markdown",
   "metadata": {},
   "source": [
    "# WMS analysis"
   ]
  },
  {
   "cell_type": "code",
   "execution_count": null,
   "metadata": {},
   "outputs": [],
   "source": [
    "wms = WebMapService(WMS_SERVICE_URL, version=\"1.3.0\")\n",
    "wms.identification.title"
   ]
  },
  {
   "cell_type": "code",
   "execution_count": null,
   "metadata": {},
   "outputs": [],
   "source": [
    "print(wms.getOperationByName(\"GetMap\").methods)\n",
    "print(wms.getOperationByName(\"GetMap\").formatOptions)"
   ]
  },
  {
   "cell_type": "code",
   "execution_count": null,
   "metadata": {},
   "outputs": [],
   "source": [
    "list(wms.contents)"
   ]
  },
  {
   "cell_type": "code",
   "execution_count": null,
   "metadata": {},
   "outputs": [],
   "source": [
    "layer = wms[\"ORTHOIMAGERY.ORTHO-SAT.SPOT.2021\"]\n",
    "print(layer.crsOptions)\n",
    "print(layer.styles)\n",
    "print(layer.boundingBox[0:4])"
   ]
  },
  {
   "cell_type": "code",
   "execution_count": null,
   "metadata": {},
   "outputs": [],
   "source": [
    "img = wms.getmap(\n",
    "    layers=[\"ORTHOIMAGERY.ORTHO-SAT.SPOT.2021\"],\n",
    "    styles=[\"normal\"],\n",
    "    bbox=layer.boundingBox[0:4],\n",
    "    # Left, bottom, right, top\n",
    "    # bbox =(-220163.801503544, 2050671.178294608, 195507.700339527, 1641180.194057136),\n",
    "    # srs='EPSG:2154',\n",
    "    # srs = layer.boundingBox[4],\n",
    "    srs=\"EPSG:3857\",\n",
    "    # bbox=(-112, 36, -106, 41),\n",
    "    # bbox = (-20, 20, -20, 20),\n",
    "    size=(2000, 2000),\n",
    "    format=\"image/png\",\n",
    "    transparent=True,\n",
    ")\n",
    "\n",
    "Image(img.read())"
   ]
  },
  {
   "cell_type": "code",
   "execution_count": null,
   "metadata": {},
   "outputs": [],
   "source": [
    "img = wms.getmap(\n",
    "    layers=[\"ORTHOIMAGERY.ORTHO-SAT.PLEIADES.2020\"],\n",
    "    # styles=['normal'],\n",
    "    bbox=layer.boundingBox[0:4],\n",
    "    # Left, bottom, right, top\n",
    "    # bbox =(-220163.801503544, 2050671.178294608, 195507.700339527, 1641180.194057136),\n",
    "    # srs='EPSG:2154',\n",
    "    srs=layer.boundingBox[4],\n",
    "    # srs = \"ESPG:4258\",\n",
    "    # bbox=(-112, 36, -106, 41),\n",
    "    # bbox = (-20, 20, -20, 20),\n",
    "    size=(2000, 2000),\n",
    "    format=\"image/png\",\n",
    "    transparent=True,\n",
    ")\n",
    "\n",
    "Image(img.read())"
   ]
  },
  {
   "cell_type": "code",
   "execution_count": null,
   "metadata": {},
   "outputs": [],
   "source": [
    "with open(\"test_img.png\", \"wb\") as outfile:\n",
    "    outfile.write(img.read())"
   ]
  },
  {
   "cell_type": "markdown",
   "metadata": {},
   "source": []
  }
 ],
 "metadata": {
  "kernelspec": {
   "display_name": "satellite",
   "language": "python",
   "name": "python3"
  },
  "language_info": {
   "codemirror_mode": {
    "name": "ipython",
    "version": 3
   },
   "file_extension": ".py",
   "mimetype": "text/x-python",
   "name": "python",
   "nbconvert_exporter": "python",
   "pygments_lexer": "ipython3",
   "version": "3.9.15 | packaged by conda-forge | (main, Nov 22 2022, 15:55:03) \n[GCC 10.4.0]"
  },
  "orig_nbformat": 4,
  "vscode": {
   "interpreter": {
    "hash": "bc4a1202c87abac9ec9173ac64caff24067195e4fa69338bf6a1855d4850a1fb"
   }
  }
 },
 "nbformat": 4,
 "nbformat_minor": 2
}
