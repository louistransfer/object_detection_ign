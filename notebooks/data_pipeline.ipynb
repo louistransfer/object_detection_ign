{
 "cells": [
  {
   "cell_type": "code",
   "execution_count": null,
   "metadata": {},
   "outputs": [],
   "source": [
    "%%bash\n",
    "# pip install tflite-runtime\n",
    "python3 -m pip install --extra-index-url https://google-coral.github.io/py-repo/ pycoral~=2.0"
   ]
  },
  {
   "cell_type": "code",
   "execution_count": null,
   "metadata": {},
   "outputs": [],
   "source": [
    "import os\n",
    "import sys\n",
    "from PIL import Image, ImageDraw, ImageFont\n",
    "import numpy as np\n",
    "import tensorflow as tf\n",
    "module_path = os.path.abspath(os.path.join(\"..\"))\n",
    "if module_path not in sys.path:\n",
    "    sys.path.append(module_path)\n",
    "from object_detection_ign.wmts.satellite_view import WMTSClient, SatelliteView\n",
    "from object_detection_ign.detector.inference_helpers import decode_img, draw_bounding_boxes_on_image, filter_predictions, load_inference_model, perform_inference\n",
    "import picologging as logging\n",
    "logging.basicConfig()\n",
    "logger = logging.getLogger()\n",
    "\n",
    "import ipywidgets as widgets\n",
    "# from tflite_runtime import interpreter"
   ]
  },
  {
   "cell_type": "code",
   "execution_count": null,
   "metadata": {},
   "outputs": [],
   "source": [
    "# WMTS_SERVICE_URL = \"https://wxs.ign.fr/satellite/geoportail/wmts\"\n",
    "WMTS_SERVICE_URL = \"https://wxs.ign.fr/ortho/geoportail/wmts?SERVICE=WMTS\"\n",
    "CORRESPONDANCE_TABLE_URL = \"https://developers.arcgis.com/documentation/mapping-apis-and-services/reference/zoom-levels-and-scale/\"\n",
    "DATA_PATH = os.path.join(\"..\",\"data\")\n",
    "CORRESPONDANCE_TABLE_PATH = os.path.join(DATA_PATH, \"correspondance_table.csv\")\n",
    "MODEL_PATH = os.path.join('..', 'models', 'tflite_detector_v2', 'model.tflite')\n",
    "TEST_IMG_DIR = os.path.join(\"..\", \"data\", \"vedai_corrected\", \"images\")\n",
    "CLASSES_DICT = {0: \"background\",\n",
    "                1: \"car\",\n",
    "                2: \"truck\",\n",
    "                3: \"pickup\",\n",
    "                4: \"tractor\",\n",
    "                5: \"camping car\",\n",
    "                6: \"boat\",\n",
    "                7: \"motorcycle\",\n",
    "                8: \"bus\",\n",
    "                9: \"van\",\n",
    "                10: \"other\",\n",
    "                11: \"small plane\",\n",
    "                12: \"large plane\"}\n",
    "os.environ['TF_CPP_MIN_LOG_LEVEL'] = '3'"
   ]
  },
  {
   "cell_type": "code",
   "execution_count": null,
   "metadata": {},
   "outputs": [],
   "source": [
    "client = WMTSClient(\n",
    "    WMTS_SERVICE_URL, CORRESPONDANCE_TABLE_PATH, CORRESPONDANCE_TABLE_URL\n",
    ")\n",
    "\n",
    "# print(client.list_available_zoom_options())\n",
    "# print(client.list_available_layers())\n",
    "# satellite_view = client.create_satellite_view_from_address(\n",
    "#     \"Aérodrome de Carpiquet\", \"HR.ORTHOIMAGERY.ORTHOPHOTOS\", 18)\n",
    "satellite_view = client.create_satellite_view_from_position(\n",
    "    48.86282492552448, 2.2874596828571394, \"HR.ORTHOIMAGERY.ORTHOPHOTOS\", 19)"
   ]
  },
  {
   "cell_type": "code",
   "execution_count": null,
   "metadata": {},
   "outputs": [],
   "source": [
    "satellite_detector, input_img_width, input_img_height = load_inference_model(MODEL_PATH)\n",
    "satellite_view.crop_image_center(input_img_width, input_img_height)\n",
    "scores, labels, bounding_boxes = perform_inference(satellite_detector, satellite_view, CLASSES_DICT, detection_threshold=0.1)\n",
    "\n",
    "satellite_view.show_image()"
   ]
  },
  {
   "cell_type": "code",
   "execution_count": null,
   "metadata": {},
   "outputs": [],
   "source": [
    "print(output.keys())\n",
    "# Output 0 : nb detections\n",
    "# Output 1 : scores\n",
    "# Output 2 : classes\n",
    "# Output 3 : bounding boxes\n",
    "print(output[\"output_3\"])"
   ]
  },
  {
   "cell_type": "code",
   "execution_count": null,
   "metadata": {},
   "outputs": [],
   "source": [
    "# chosen_image_widget = widgets.Dropdown(\n",
    "#     options=os.listdir(TEST_IMG_DIR),\n",
    "#     # value='2',\n",
    "#     description='Choose a test picture',\n",
    "#     # disabled=False,\n",
    "# )\n",
    "# display(chosen_image_widget)\n",
    "\n",
    "# test_img = os.path.join(TEST_IMG_DIR, chosen_image_widget.value)"
   ]
  }
 ],
 "metadata": {
  "kernelspec": {
   "display_name": "satellite",
   "language": "python",
   "name": "python3"
  },
  "language_info": {
   "codemirror_mode": {
    "name": "ipython",
    "version": 3
   },
   "file_extension": ".py",
   "mimetype": "text/x-python",
   "name": "python",
   "nbconvert_exporter": "python",
   "pygments_lexer": "ipython3",
   "version": "3.9.15 | packaged by conda-forge | (main, Nov 22 2022, 15:55:03) \n[GCC 10.4.0]"
  },
  "orig_nbformat": 4,
  "vscode": {
   "interpreter": {
    "hash": "bc4a1202c87abac9ec9173ac64caff24067195e4fa69338bf6a1855d4850a1fb"
   }
  }
 },
 "nbformat": 4,
 "nbformat_minor": 2
}
