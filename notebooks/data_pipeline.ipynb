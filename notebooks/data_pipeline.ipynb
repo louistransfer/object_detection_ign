{
 "cells": [
  {
   "cell_type": "code",
   "execution_count": 2,
   "metadata": {},
   "outputs": [],
   "source": [
    "import os\n",
    "import sys\n",
    "import PIL\n",
    "module_path = os.path.abspath(os.path.join(\"..\"))\n",
    "if module_path not in sys.path:\n",
    "    sys.path.append(module_path)\n",
    "from object_detection_ign.satellite_view import WMTSClient, SatelliteView"
   ]
  },
  {
   "cell_type": "code",
   "execution_count": 3,
   "metadata": {},
   "outputs": [],
   "source": [
    "# WMTS_SERVICE_URL = \"https://wxs.ign.fr/satellite/geoportail/wmts\"\n",
    "WMTS_SERVICE_URL = \"https://wxs.ign.fr/ortho/geoportail/wmts?SERVICE=WMTS\"\n",
    "CORRESPONDANCE_TABLE_URL = \"https://developers.arcgis.com/documentation/mapping-apis-and-services/reference/zoom-levels-and-scale/\"\n",
    "DATA_PATH = os.path.join(\"..\",\"data\")\n",
    "CORRESPONDANCE_TABLE_PATH = os.path.join(DATA_PATH, \"correspondance_table.csv\")"
   ]
  },
  {
   "cell_type": "code",
   "execution_count": 7,
   "metadata": {},
   "outputs": [
    {
     "name": "stderr",
     "output_type": "stream",
     "text": [
      "[I 221101 21:58:16 satellite_view:35] Existing correspondance table found, loading it now.\n"
     ]
    },
    {
     "name": "stdout",
     "output_type": "stream",
     "text": [
      "['0 - 591657527.591555 - Global', '1 - 295828763.795777 - Global', '2 - 147914381.897889 - Subcontinent', '3 - 73957190.948944 - Subcontinent', '4 - 36978595.474472 - Subcontinent', '5 - 18489297.737236 - Large country', '6 - 9244648.868618 - Large country', '7 - 4622324.434309 - Small country/US state', '8 - 2311162.217155 - Small country/US state', '9 - 1155581.108577 - Large metropolitan area', '10 - 577790.554289 - Large metropolitan area', '11 - 288895.277144 - City', '12 - 144447.638572 - Town', '13 - 72223.819286 - Village', '14 - 36111.909643 - Village', '15 - 18055.954822 - Small road', '16 - 9027.977411 - Street', '17 - 4513.988705 - Street block', '18 - 2256.994353 - Address', '19 - 1128.497176 - Street intersection', '20 - 564.248588 - Street intersection', '21 - 282.124294 - Street intersection']\n",
      "dict_keys(['HR.ORTHOIMAGERY.ORTHOPHOTOS', 'ORTHOIMAGERY.ORTHOPHOS.RESTRICTEDAREAS', 'ORTHOIMAGERY.ORTHOPHOTOS', 'ORTHOIMAGERY.ORTHOPHOTOS.BDORTHO', 'ORTHOIMAGERY.ORTHOPHOTOS.COAST2000', 'ORTHOIMAGERY.ORTHOPHOTOS.ILESDUNORD', 'ORTHOIMAGERY.ORTHOPHOTOS.IRC', 'ORTHOIMAGERY.ORTHOPHOTOS.IRC-EXPRESS.2022', 'ORTHOIMAGERY.ORTHOPHOTOS.ORTHO-ASP_PAC2022', 'ORTHOIMAGERY.ORTHOPHOTOS.ORTHO-EXPRESS.2022', 'PCRS.LAMB93', 'THR.ORTHOIMAGERY.ORTHOPHOTOS'])\n",
      "Tile width in meters : 76.43702828517624\n",
      "X = 309828.1137148824, Y = 6344632.259839368, identifier = 19\n"
     ]
    },
    {
     "name": "stderr",
     "output_type": "stream",
     "text": [
      "100%|██████████| 3/3 [00:01<00:00,  1.90it/s]\n"
     ]
    }
   ],
   "source": [
    "client = WMTSClient(\n",
    "    WMTS_SERVICE_URL, CORRESPONDANCE_TABLE_PATH, CORRESPONDANCE_TABLE_URL\n",
    ")\n",
    "\n",
    "print(client.list_available_zoom_options())\n",
    "print(client.list_available_layers())\n",
    "satellite_view = client.create_satellite_view_from_address(\n",
    "    \"6 avenue de l'Europe 60280 VENETTE\", \"HR.ORTHOIMAGERY.ORTHOPHOTOS\", 19\n",
    ")\n",
    "satellite_view.show_image()"
   ]
  },
  {
   "cell_type": "code",
   "execution_count": 8,
   "metadata": {},
   "outputs": [],
   "source": [
    "satellite_view.image.save(os.path.join(DATA_PATH, \"test_img.png\"))"
   ]
  },
  {
   "cell_type": "code",
   "execution_count": null,
   "metadata": {},
   "outputs": [],
   "source": []
  }
 ],
 "metadata": {
  "kernelspec": {
   "display_name": "Python 3.10.6 ('satellite')",
   "language": "python",
   "name": "python3"
  },
  "language_info": {
   "codemirror_mode": {
    "name": "ipython",
    "version": 3
   },
   "file_extension": ".py",
   "mimetype": "text/x-python",
   "name": "python",
   "nbconvert_exporter": "python",
   "pygments_lexer": "ipython3",
   "version": "3.10.6"
  },
  "orig_nbformat": 4,
  "vscode": {
   "interpreter": {
    "hash": "cf3d4d6b2a65a1b0fc395a4aa31d9a00d5cf4d5bed504003ea79df4dac07b089"
   }
  }
 },
 "nbformat": 4,
 "nbformat_minor": 2
}
