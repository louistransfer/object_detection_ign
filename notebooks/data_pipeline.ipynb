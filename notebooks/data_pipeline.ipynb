{
 "cells": [
  {
   "cell_type": "code",
   "execution_count": null,
   "metadata": {},
   "outputs": [],
   "source": [
    "%%bash\n",
    "# pip install tflite-runtime\n",
    "python3 -m pip install --extra-index-url https://google-coral.github.io/py-repo/ pycoral~=2.0"
   ]
  },
  {
   "cell_type": "code",
   "execution_count": null,
   "metadata": {},
   "outputs": [],
   "source": [
    "import os\n",
    "import sys\n",
    "from PIL import Image, ImageDraw, ImageFont\n",
    "import numpy as np\n",
    "import tensorflow as tf\n",
    "module_path = os.path.abspath(os.path.join(\"..\"))\n",
    "if module_path not in sys.path:\n",
    "    sys.path.append(module_path)\n",
    "from object_detection_ign.satellite_view import WMTSClient, SatelliteView\n",
    "from object_detection_ign.inference_helpers import decode_img, draw_bounding_boxes_on_image, load_coral_tpus, filter_predictions\n",
    "from logzero import logger\n",
    "\n",
    "import ipywidgets as widgets\n",
    "# from tflite_runtime import interpreter"
   ]
  },
  {
   "cell_type": "code",
   "execution_count": null,
   "metadata": {},
   "outputs": [],
   "source": [
    "# WMTS_SERVICE_URL = \"https://wxs.ign.fr/satellite/geoportail/wmts\"\n",
    "WMTS_SERVICE_URL = \"https://wxs.ign.fr/ortho/geoportail/wmts?SERVICE=WMTS\"\n",
    "CORRESPONDANCE_TABLE_URL = \"https://developers.arcgis.com/documentation/mapping-apis-and-services/reference/zoom-levels-and-scale/\"\n",
    "DATA_PATH = os.path.join(\"..\",\"data\")\n",
    "CORRESPONDANCE_TABLE_PATH = os.path.join(DATA_PATH, \"correspondance_table.csv\")\n",
    "MODEL_PATH = os.path.join('..', 'models', 'tflite_detector_v2', 'model.tflite')\n",
    "TEST_IMG_DIR = os.path.join(\"..\", \"data\", \"vedai_corrected\", \"images\")\n",
    "CLASSES_DICT = {0: \"background\",\n",
    "                1: \"car\",\n",
    "                2: \"truck\",\n",
    "                3: \"pickup\",\n",
    "                4: \"tractor\",\n",
    "                5: \"camping car\",\n",
    "                6: \"boat\",\n",
    "                7: \"motorcycle\",\n",
    "                8: \"bus\",\n",
    "                9: \"van\",\n",
    "                10: \"other\",\n",
    "                11: \"small plane\",\n",
    "                12: \"large plane\"}\n",
    "os.environ['TF_CPP_MIN_LOG_LEVEL'] = '3'"
   ]
  },
  {
   "cell_type": "code",
   "execution_count": null,
   "metadata": {},
   "outputs": [],
   "source": [
    "chosen_image_widget = widgets.Dropdown(\n",
    "    options=os.listdir(TEST_IMG_DIR),\n",
    "    # value='2',\n",
    "    description='Choose a test picture',\n",
    "    # disabled=False,\n",
    ")\n",
    "display(chosen_image_widget)\n"
   ]
  },
  {
   "cell_type": "code",
   "execution_count": null,
   "metadata": {},
   "outputs": [],
   "source": [
    "test_img = os.path.join(TEST_IMG_DIR, chosen_image_widget.value)\n",
    "\n",
    "client = WMTSClient(\n",
    "    WMTS_SERVICE_URL, CORRESPONDANCE_TABLE_PATH, CORRESPONDANCE_TABLE_URL\n",
    ")\n",
    "\n",
    "print(client.list_available_zoom_options())\n",
    "print(client.list_available_layers())\n",
    "# satellite_view = client.create_satellite_view_from_address(\n",
    "#     \"Aérodrome de Carpiquet\", \"HR.ORTHOIMAGERY.ORTHOPHOTOS\", 18)\n",
    "satellite_view = client.create_satellite_view_from_position(\n",
    "    49.408159740153955, 2.782738499678278, \"HR.ORTHOIMAGERY.ORTHOPHOTOS\", 19)\n",
    "\n",
    "satellite_view.show_image()\n",
    "satellite_view.image.save(os.path.join(DATA_PATH, \"test_img.jpg\"))"
   ]
  },
  {
   "cell_type": "code",
   "execution_count": null,
   "metadata": {},
   "outputs": [],
   "source": [
    "test_img = os.path.join(DATA_PATH, \"test_img.jpg\")\n",
    "\n",
    "\n",
    "\n",
    "satellite_detector = tf.lite.Interpreter(MODEL_PATH, experimental_delegates=load_coral_tpus())\n",
    "satellite_detector.allocate_tensors() \n",
    "signature = satellite_detector.get_signature_runner()\n",
    "input_img_shape = satellite_detector.get_input_details()[0][\"shape_signature\"][1:3]\n",
    "input_img_width, input_img_height = input_img_shape[0], input_img_shape[1]\n",
    "logger.info(f\"The selected model uses a {(input_img_width, input_img_height)} size for input images.\")\n",
    "tf_img = decode_img(test_img, img_width=input_img_width, img_height=input_img_height, convert_to_dtype=tf.float32)\n",
    "output = signature(images=tf_img)\n",
    "scores, labels, bounding_boxes = filter_predictions(output, CLASSES_DICT)"
   ]
  },
  {
   "cell_type": "code",
   "execution_count": null,
   "metadata": {},
   "outputs": [],
   "source": [
    "\n",
    "\n",
    "\n",
    "# print(scores)\n",
    "loaded_image = Image.open(test_img)\n",
    "draw_bounding_boxes_on_image(loaded_image, bounding_boxes, scores, labels)\n",
    "loaded_image.show()"
   ]
  },
  {
   "cell_type": "code",
   "execution_count": null,
   "metadata": {},
   "outputs": [],
   "source": [
    "# loaded_image = Image.open(TEST_IMG_PATH)\n",
    "# # loaded_image = loaded_image.resize((input_img_width, input_img_height))\n",
    "# draw_bounding_boxes_on_image(loaded_image, boxes=output[\"output_3\"].squeeze(), color='red', thickness=2, display_str_list_list=labels)\n",
    "# loaded_image.show()"
   ]
  },
  {
   "cell_type": "code",
   "execution_count": null,
   "metadata": {},
   "outputs": [],
   "source": [
    "loaded_image.save()"
   ]
  },
  {
   "cell_type": "code",
   "execution_count": null,
   "metadata": {},
   "outputs": [],
   "source": [
    "print(output.keys())\n",
    "# Output 0 : nb detections\n",
    "# Output 1 : scores\n",
    "# Output 2 : classes\n",
    "# Output 3 : bounding boxes\n",
    "print(output[\"output_3\"])"
   ]
  }
 ],
 "metadata": {
  "kernelspec": {
   "display_name": "satellite",
   "language": "python",
   "name": "python3"
  },
  "language_info": {
   "codemirror_mode": {
    "name": "ipython",
    "version": 3
   },
   "file_extension": ".py",
   "mimetype": "text/x-python",
   "name": "python",
   "nbconvert_exporter": "python",
   "pygments_lexer": "ipython3",
   "version": "3.9.15"
  },
  "orig_nbformat": 4,
  "vscode": {
   "interpreter": {
    "hash": "bc4a1202c87abac9ec9173ac64caff24067195e4fa69338bf6a1855d4850a1fb"
   }
  }
 },
 "nbformat": 4,
 "nbformat_minor": 2
}
