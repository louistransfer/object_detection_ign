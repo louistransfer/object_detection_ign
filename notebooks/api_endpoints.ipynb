{
 "cells": [
  {
   "cell_type": "code",
   "execution_count": null,
   "metadata": {},
   "outputs": [],
   "source": [
    "import os\n",
    "import io\n",
    "import requests\n",
    "from PIL import Image\n",
    "\n",
    "TARGET_URL = \"http://localhost:8000\""
   ]
  },
  {
   "attachments": {},
   "cell_type": "markdown",
   "metadata": {},
   "source": [
    "### Address endpoint"
   ]
  },
  {
   "cell_type": "code",
   "execution_count": null,
   "metadata": {},
   "outputs": [],
   "source": [
    "ENDPOINT = \"inference/address\"\n",
    "FULL_URL = os.path.join(TARGET_URL, ENDPOINT)\n",
    "data = {\n",
    "    \"address\": \"Trocadéro, Paris\",\n",
    "    \"layer\": \"HR.ORTHOIMAGERY.ORTHOPHOTOS\",\n",
    "    \"zoom_level\": 19,\n",
    "}\n",
    "response = requests.post(FULL_URL, json=data)\n",
    "try:\n",
    "    img = Image.open(io.BytesIO(response.content))\n",
    "    display(img)\n",
    "except:\n",
    "    display(response.json())"
   ]
  },
  {
   "attachments": {},
   "cell_type": "markdown",
   "metadata": {},
   "source": [
    "### Location endpoint"
   ]
  },
  {
   "cell_type": "code",
   "execution_count": null,
   "metadata": {},
   "outputs": [],
   "source": [
    "ENDPOINT = \"inference/location\"\n",
    "FULL_URL = os.path.join(TARGET_URL, ENDPOINT)\n",
    "data = {\n",
    "    \"latitude\": 48.83980726885963,\n",
    "    \"longitude\": -1.5490468522920273,\n",
    "    \"layer\": \"HR.ORTHOIMAGERY.ORTHOPHOTOS\",\n",
    "    \"zoom_level\": 19,\n",
    "}\n",
    "response = requests.post(FULL_URL, json=data)\n",
    "try:\n",
    "    img = Image.open(io.BytesIO(response.content))\n",
    "    display(img)\n",
    "except:\n",
    "    display(response.json())"
   ]
  }
 ],
 "metadata": {
  "kernelspec": {
   "display_name": "satellite",
   "language": "python",
   "name": "python3"
  },
  "language_info": {
   "codemirror_mode": {
    "name": "ipython",
    "version": 3
   },
   "file_extension": ".py",
   "mimetype": "text/x-python",
   "name": "python",
   "nbconvert_exporter": "python",
   "pygments_lexer": "ipython3",
   "version": "3.9.15"
  },
  "orig_nbformat": 4,
  "vscode": {
   "interpreter": {
    "hash": "bc4a1202c87abac9ec9173ac64caff24067195e4fa69338bf6a1855d4850a1fb"
   }
  }
 },
 "nbformat": 4,
 "nbformat_minor": 2
}
